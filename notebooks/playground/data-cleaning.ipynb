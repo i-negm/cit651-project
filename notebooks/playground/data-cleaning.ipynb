{
 "cells": [
  {
   "cell_type": "code",
   "execution_count": 1,
   "metadata": {},
   "outputs": [],
   "source": [
    "# Global vars\n",
    "data_dir = \"../../data/\"\n",
    "train_csv = data_dir + \"train.csv\"\n",
    "test_csv = data_dir + \"test.csv\"\n",
    "test_labels_csv = data_dir + \"test_labels.csv\""
   ]
  },
  {
   "cell_type": "code",
   "execution_count": 2,
   "metadata": {},
   "outputs": [],
   "source": [
    "import pandas as pd\n",
    "# Regex\n",
    "import re"
   ]
  },
  {
   "cell_type": "markdown",
   "metadata": {},
   "source": [
    "# Data Cleaning"
   ]
  },
  {
   "cell_type": "code",
   "execution_count": 3,
   "metadata": {},
   "outputs": [],
   "source": [
    "def sanity(data):\n",
    "  # Data Types should be as expected\n",
    "  assert data['id'].dtype == 'object'\n",
    "  assert data['comment_text'].dtype == 'object'\n",
    "  assert data['toxic'].dtype == 'int64'\n",
    "  assert data['severe_toxic'].dtype == 'int64'\n",
    "  assert data['obscene'].dtype == 'int64'\n",
    "  assert data['threat'].dtype == 'int64'\n",
    "  assert data['insult'].dtype == 'int64'\n",
    "  assert data['identity_hate'].dtype == 'int64'\n",
    "\n",
    "def clean_data(data):\n",
    "\n",
    "  # Check sanity of datatypes\n",
    "  sanity(data)\n",
    "\n",
    "  regex_flags = re.MULTILINE\n",
    "  # Lower case #\n",
    "  # each document filed 'comment_text' -> lower case, if not a string then put it as it is\n",
    "  data.loc[:, 'comment_text'] = data.comment_text.apply(lambda x: x.lower() if isinstance(x, str) else x)\n",
    "\n",
    "  # New Line #\n",
    "  #   Remove escape character \\n \\t\n",
    "  data.loc[:, 'comment_text'] = data.comment_text.apply(lambda x: re.sub(r'\\n', ' ', x, flags=regex_flags))\n",
    "  \n",
    "  # Quotation Marks\n",
    "  data.loc[:, 'comment_text'] = data.comment_text.apply(lambda x: re.sub(r'[\"\\']', ' ', x, flags=regex_flags))\n",
    "\n",
    "  # Remove URLs\n",
    "  data.loc[:, 'comment_text'] = data.comment_text.apply(lambda x: re.sub(r'http(s)*://(www)*.[^\\s]+', ' ', x, flags=regex_flags))\n",
    "\n",
    "  # Remove punctuation\n",
    "  # @todo string punctuation inside python\n",
    "  data.loc[:, 'comment_text'] = data.comment_text.apply(lambda x: re.sub(r'[,.;:/~\\|–\\-!=\\'?·]', ' ', x, flags=regex_flags))\n",
    "\n",
    "  # Remove Parannthesis\n",
    "  data.loc[:, 'comment_text'] = data.comment_text.apply(lambda x: re.sub(r'[\\[\\]\\(\\)\\{\\}]', ' ', x, flags=regex_flags))\n",
    "\n",
    "  # data.loc[:\"new_column\"] = df['review'].str.replace('[^\\w\\s]','')\n",
    "  # Remove non ASCI\n",
    "  data.loc[:, 'comment_text'] = data.comment_text.apply(lambda x: re.sub(r'[^A-z0-9]', ' ', x, flags=regex_flags))\n",
    "\n",
    "  # Multiple spaces -> one space\n",
    "  data.loc[:, 'comment_text'] = data.comment_text.apply(lambda x: re.sub(r'\\s{2,}', ' ', x, flags=regex_flags))\n",
    "\n",
    "\n",
    "\n",
    "  # Remove emails\n",
    "  # Time Stamps\n",
    "  # Any other characters (not english): for example chinese\n",
    "\n",
    "  # stripped_html = tf.strings.regex_replace(lowercase, '<br />', ' ')\n",
    "  # return tf.strings.regex_replace(stripped_html, '[^%s]' % (string.ascii_letters + string.whitespace),\n",
    "  #                                 '')\n"
   ]
  },
  {
   "cell_type": "code",
   "execution_count": 4,
   "metadata": {},
   "outputs": [],
   "source": [
    "train = pd.read_csv(train_csv)\n",
    "clean_data(train)\n",
    "train.to_csv(data_dir + 'train_clean.csv')"
   ]
  },
  {
   "cell_type": "markdown",
   "metadata": {},
   "source": [
    "# Notes (Limitations)\n",
    "\n",
    "1. Non English\n",
    "Examples:\n",
    "fµck you\n",
    "\n",
    "2. Symbols (not detected)\n",
    "https://ascii-middle-finger.com/\n",
    "\n",
    "3. URLs can be toxic\n",
    "4. Blinded keywords (fu**)\n",
    "\n"
   ]
  },
  {
   "cell_type": "markdown",
   "metadata": {},
   "source": []
  }
 ],
 "metadata": {
  "interpreter": {
   "hash": "31f2aee4e71d21fbe5cf8b01ff0e069b9275f58929596ceb00d14d90e3e16cd6"
  },
  "kernelspec": {
   "display_name": "Python 3.6.8 64-bit",
   "language": "python",
   "name": "python3"
  },
  "language_info": {
   "codemirror_mode": {
    "name": "ipython",
    "version": 3
   },
   "file_extension": ".py",
   "mimetype": "text/x-python",
   "name": "python",
   "nbconvert_exporter": "python",
   "pygments_lexer": "ipython3",
   "version": "3.6.8"
  },
  "orig_nbformat": 4
 },
 "nbformat": 4,
 "nbformat_minor": 2
}
