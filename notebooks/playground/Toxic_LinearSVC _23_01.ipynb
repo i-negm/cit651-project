{
  "cells": [
    {
      "cell_type": "code",
      "execution_count": 2,
      "metadata": {},
      "outputs": [],
      "source": [
        "# Global vars\n",
        "data_dir = \"../../data/\"\n",
        "train_csv = data_dir + \"train.csv\"\n",
        "test_csv = data_dir + \"test.csv\"\n",
        "test_labels_csv = data_dir + \"test_labels.csv\""
      ]
    },
    {
      "cell_type": "code",
      "execution_count": 3,
      "metadata": {
        "colab": {
          "base_uri": "https://localhost:8080/"
        },
        "id": "KeqVJRYl3TCS",
        "outputId": "93908082-dcde-43a2-976a-c2c251a45d68"
      },
      "outputs": [],
      "source": [
        "import numpy as np\n",
        "import spacy\n",
        "import pandas as pd\n",
        "import texthero as hero\n",
        "from texthero import preprocessing\n",
        "import threading"
      ]
    },
    {
      "cell_type": "markdown",
      "metadata": {},
      "source": [
        "### Setup (run once)"
      ]
    },
    {
      "cell_type": "code",
      "execution_count": 4,
      "metadata": {
        "colab": {
          "base_uri": "https://localhost:8080/"
        },
        "id": "ryruwPBUaUXo",
        "outputId": "5e1fe917-664c-4283-81b9-1efef7b9e7da"
      },
      "outputs": [],
      "source": [
        "# Uncomment the following lines and run them once\n",
        "# !python -m spacy download en_core_web_lg # Need to load the large model to get the vectors"
      ]
    },
    {
      "cell_type": "markdown",
      "metadata": {},
      "source": [
        "## Preparing"
      ]
    },
    {
      "cell_type": "code",
      "execution_count": 5,
      "metadata": {
        "id": "ljALH_FIBgT8"
      },
      "outputs": [],
      "source": [
        "# Note: If this fails (after first installation) please restar the kernel of Jupyter\n",
        "nlp = spacy.load('en_core_web_lg')"
      ]
    },
    {
      "cell_type": "code",
      "execution_count": 18,
      "metadata": {
        "colab": {
          "base_uri": "https://localhost:8080/",
          "height": 337
        },
        "id": "Hs7JOfGqcUPS",
        "outputId": "dfff40e0-81bb-4c3c-c89b-2ea8eb75307b"
      },
      "outputs": [],
      "source": [
        "# Loading data\n",
        "comments = pd.read_csv(data_dir + 'train.csv')\n",
        "# comments = comments.head(1000)"
      ]
    },
    {
      "cell_type": "markdown",
      "metadata": {},
      "source": [
        "### 1. Cleaning Data"
      ]
    },
    {
      "cell_type": "code",
      "execution_count": 19,
      "metadata": {
        "colab": {
          "base_uri": "https://localhost:8080/",
          "height": 371
        },
        "id": "4QGrGYwOdXgG",
        "outputId": "3f92e7cf-8925-463d-85a3-46a78b0a9ea9"
      },
      "outputs": [
        {
          "data": {
            "text/html": [
              "<div>\n",
              "<style scoped>\n",
              "    .dataframe tbody tr th:only-of-type {\n",
              "        vertical-align: middle;\n",
              "    }\n",
              "\n",
              "    .dataframe tbody tr th {\n",
              "        vertical-align: top;\n",
              "    }\n",
              "\n",
              "    .dataframe thead th {\n",
              "        text-align: right;\n",
              "    }\n",
              "</style>\n",
              "<table border=\"1\" class=\"dataframe\">\n",
              "  <thead>\n",
              "    <tr style=\"text-align: right;\">\n",
              "      <th></th>\n",
              "      <th>id</th>\n",
              "      <th>comment_text</th>\n",
              "      <th>toxic</th>\n",
              "      <th>severe_toxic</th>\n",
              "      <th>obscene</th>\n",
              "      <th>threat</th>\n",
              "      <th>insult</th>\n",
              "      <th>identity_hate</th>\n",
              "    </tr>\n",
              "  </thead>\n",
              "  <tbody>\n",
              "    <tr>\n",
              "      <th>0</th>\n",
              "      <td>0000997932d777bf</td>\n",
              "      <td>explan whi the edit made under my usernam hard...</td>\n",
              "      <td>0</td>\n",
              "      <td>0</td>\n",
              "      <td>0</td>\n",
              "      <td>0</td>\n",
              "      <td>0</td>\n",
              "      <td>0</td>\n",
              "    </tr>\n",
              "    <tr>\n",
              "      <th>1</th>\n",
              "      <td>000103f0d9cfb60f</td>\n",
              "      <td>d aww he match this background colour i m seem...</td>\n",
              "      <td>0</td>\n",
              "      <td>0</td>\n",
              "      <td>0</td>\n",
              "      <td>0</td>\n",
              "      <td>0</td>\n",
              "      <td>0</td>\n",
              "    </tr>\n",
              "    <tr>\n",
              "      <th>2</th>\n",
              "      <td>000113f07ec002fd</td>\n",
              "      <td>hey man i m realli not tri to edit war it s ju...</td>\n",
              "      <td>0</td>\n",
              "      <td>0</td>\n",
              "      <td>0</td>\n",
              "      <td>0</td>\n",
              "      <td>0</td>\n",
              "      <td>0</td>\n",
              "    </tr>\n",
              "    <tr>\n",
              "      <th>3</th>\n",
              "      <td>0001b41b1c6bb37e</td>\n",
              "      <td>more i can t make ani real suggest on improv i...</td>\n",
              "      <td>0</td>\n",
              "      <td>0</td>\n",
              "      <td>0</td>\n",
              "      <td>0</td>\n",
              "      <td>0</td>\n",
              "      <td>0</td>\n",
              "    </tr>\n",
              "    <tr>\n",
              "      <th>4</th>\n",
              "      <td>0001d958c54c6e35</td>\n",
              "      <td>you sir are my hero ani chanc you rememb what ...</td>\n",
              "      <td>0</td>\n",
              "      <td>0</td>\n",
              "      <td>0</td>\n",
              "      <td>0</td>\n",
              "      <td>0</td>\n",
              "      <td>0</td>\n",
              "    </tr>\n",
              "  </tbody>\n",
              "</table>\n",
              "</div>"
            ],
            "text/plain": [
              "                 id                                       comment_text  toxic  \\\n",
              "0  0000997932d777bf  explan whi the edit made under my usernam hard...      0   \n",
              "1  000103f0d9cfb60f  d aww he match this background colour i m seem...      0   \n",
              "2  000113f07ec002fd  hey man i m realli not tri to edit war it s ju...      0   \n",
              "3  0001b41b1c6bb37e  more i can t make ani real suggest on improv i...      0   \n",
              "4  0001d958c54c6e35  you sir are my hero ani chanc you rememb what ...      0   \n",
              "\n",
              "   severe_toxic  obscene  threat  insult  identity_hate  \n",
              "0             0        0       0       0              0  \n",
              "1             0        0       0       0              0  \n",
              "2             0        0       0       0              0  \n",
              "3             0        0       0       0              0  \n",
              "4             0        0       0       0              0  "
            ]
          },
          "execution_count": 19,
          "metadata": {},
          "output_type": "execute_result"
        }
      ],
      "source": [
        "# Prepare the cleaning pipeline\n",
        "custom_pipeline = [ preprocessing.fillna,\n",
        "                    preprocessing.lowercase,\n",
        "                    preprocessing.remove_digits,\n",
        "                    preprocessing.remove_punctuation,\n",
        "                    preprocessing.remove_diacritics,\n",
        "                    #preprocessing.remove_stopwords,\n",
        "                    preprocessing.remove_whitespace,\n",
        "                    preprocessing.stem]\n",
        "\n",
        "# Clean the data\n",
        "comments['comment_text'] = hero.clean(comments['comment_text'], pipeline = custom_pipeline)\n",
        "comments.head()"
      ]
    },
    {
      "cell_type": "markdown",
      "metadata": {},
      "source": [
        "### Word Embedding"
      ]
    },
    {
      "cell_type": "code",
      "execution_count": 20,
      "metadata": {},
      "outputs": [
        {
          "data": {
            "text/plain": [
              "2"
            ]
          },
          "execution_count": 20,
          "metadata": {},
          "output_type": "execute_result"
        }
      ],
      "source": [
        "np.array([1,2]).size"
      ]
    },
    {
      "cell_type": "code",
      "execution_count": 21,
      "metadata": {},
      "outputs": [],
      "source": [
        "from math import ceil\n",
        "\n",
        "def print_arr_for_test(index, arr):\n",
        "  print(f\"[thread#{index}] first={arr[0]} last={arr[arr.size-1]}\")\n",
        "\n",
        "def parallel_exec(nproc=1, thread_func=None, data=np.array([])):\n",
        "  data_cache = np.array([])\n",
        "  threads = []\n",
        "  # Prepare the array dividing\n",
        "  size = data.size\n",
        "  div_indeces = []\n",
        "  div_width = ceil((size / nproc))\n",
        "  for i in range(nproc + 1):\n",
        "    current_div =  div_width * i\n",
        "    if((current_div) > size):\n",
        "      div_indeces.append(size)\n",
        "    else:\n",
        "      div_indeces.append(current_div)\n",
        "  # Create threads\n",
        "  for i in range(nproc + 1):\n",
        "    if i == nproc:\n",
        "      break\n",
        "    thread = threading.Thread(target=thread_func, args=(i ,data[div_indeces[i]:div_indeces[i+1]],))\n",
        "    threads.append(thread)\n",
        "  # Start all threads\n",
        "  for i in range(nproc):\n",
        "    threads[i].start()\n",
        "  # Wait for all threads to finish\n",
        "  for i in range(nproc):\n",
        "    threads[i].join()\n",
        "\n",
        "# Simple test (uncomment to see)\n",
        "# parallel_exec(nproc=8, thread_func=print_arr_for_test, data=np.array(list(range(100))))"
      ]
    },
    {
      "cell_type": "code",
      "execution_count": 25,
      "metadata": {
        "id": "Lw_0Z0e9dzCz"
      },
      "outputs": [],
      "source": [
        "def vectorizing_thread(_, data_for_thread):\n",
        "    data_for_thread = np.array([nlp(text).vector for text in data_for_thread])\n",
        "\n",
        "# with nlp.disable_pipes():\n",
        "parallel_exec(nproc=144, thread_func=vectorizing_thread, data=comments.comment_text)\n",
        "doc_vectors = np.array([nlp(text).vector for text in comments.comment_text])"
      ]
    },
    {
      "cell_type": "code",
      "execution_count": 16,
      "metadata": {},
      "outputs": [
        {
          "data": {
            "text/plain": [
              "array([[ 0.0158172 ,  0.06881687, -0.10856419, ...,  0.03626214,\n",
              "         0.02597796,  0.14716129],\n",
              "       [-0.04313187,  0.28973004, -0.15522698, ...,  0.076267  ,\n",
              "        -0.01267175,  0.23302144],\n",
              "       [-0.01319434,  0.13964319, -0.21224962, ...,  0.00339534,\n",
              "        -0.00679155,  0.10196492],\n",
              "       ...,\n",
              "       [-0.14291227,  0.11810604, -0.07171337, ..., -0.16393983,\n",
              "         0.01586574,  0.07069676],\n",
              "       [-0.04500954,  0.16452092, -0.12751812, ...,  0.0241076 ,\n",
              "         0.04981592,  0.12124237],\n",
              "       [-0.02163135,  0.16488743, -0.25848255, ..., -0.11882128,\n",
              "         0.18570466,  0.11126722]], dtype=float32)"
            ]
          },
          "execution_count": 16,
          "metadata": {},
          "output_type": "execute_result"
        }
      ],
      "source": [
        "doc_vectors[0:100]"
      ]
    },
    {
      "cell_type": "markdown",
      "metadata": {},
      "source": [
        "#### Saving vectors"
      ]
    },
    {
      "cell_type": "code",
      "execution_count": 9,
      "metadata": {
        "id": "Y6fgDqtAzeOx"
      },
      "outputs": [
        {
          "data": {
            "text/plain": [
              "(1000, 300)"
            ]
          },
          "execution_count": 9,
          "metadata": {},
          "output_type": "execute_result"
        }
      ],
      "source": [
        "np.savetxt(data_dir + \"dataset_vectors.csv\", doc_vectors, delimiter=\",\")\n",
        "#doc_vectors = pd.read_csv(\"toxic_clean_vectors.csv\")\n",
        "doc_vectors.shape"
      ]
    },
    {
      "cell_type": "markdown",
      "metadata": {},
      "source": [
        "### Toxic Classifier"
      ]
    },
    {
      "cell_type": "code",
      "execution_count": 10,
      "metadata": {
        "id": "bWIwDaEQecWM"
      },
      "outputs": [],
      "source": [
        "from sklearn.model_selection import train_test_split\n",
        "from sklearn.metrics import roc_auc_score\n",
        "\n",
        "X_train, X_test, y_train, y_test = train_test_split(doc_vectors, comments_sample.toxic,\n",
        "                                                    test_size=0.2, random_state=1)"
      ]
    },
    {
      "cell_type": "code",
      "execution_count": 11,
      "metadata": {
        "id": "8X4yaAiUfkI_"
      },
      "outputs": [
        {
          "data": {
            "text/plain": [
              "LinearSVC(dual=False, max_iter=10000, random_state=1)"
            ]
          },
          "execution_count": 11,
          "metadata": {},
          "output_type": "execute_result"
        }
      ],
      "source": [
        "from sklearn.svm import LinearSVC\n",
        "from sklearn.model_selection import cross_val_score\n",
        "\n",
        "# Set dual=False to speed up training, and it's not needed\n",
        "svc_toxic = LinearSVC(random_state=1, dual=False, max_iter=10000)\n",
        "svc_toxic.fit(X_train, y_train)"
      ]
    },
    {
      "cell_type": "code",
      "execution_count": 12,
      "metadata": {
        "id": "qxAq9GDWfq94"
      },
      "outputs": [
        {
          "name": "stdout",
          "output_type": "stream",
          "text": [
            "roc_auc_score: 72.579%\n"
          ]
        }
      ],
      "source": [
        "print(f\"roc_auc_score: {roc_auc_score( y_test, svc_toxic.predict(X_test)) * 100:.3f}%\", )"
      ]
    },
    {
      "cell_type": "code",
      "execution_count": 13,
      "metadata": {
        "id": "pSjPRJDrnL8b"
      },
      "outputs": [],
      "source": [
        "import pickle\n",
        "pickle.dump(svc_toxic, open('svc_toxic', 'wb'))"
      ]
    },
    {
      "cell_type": "code",
      "execution_count": 14,
      "metadata": {
        "id": "aM7UlPTLnX8q"
      },
      "outputs": [],
      "source": [
        "#loaded_model = pickle.load(open('model_svc', 'rb'))\n",
        "#result = loaded_model.score(X_test, y_test)"
      ]
    },
    {
      "cell_type": "code",
      "execution_count": 15,
      "metadata": {
        "id": "JuORm6mBnaaU"
      },
      "outputs": [],
      "source": [
        "#print(result)"
      ]
    },
    {
      "cell_type": "markdown",
      "metadata": {},
      "source": [
        "### Severe Toxic"
      ]
    },
    {
      "cell_type": "code",
      "execution_count": 16,
      "metadata": {
        "id": "mLR-DgqZnedg"
      },
      "outputs": [],
      "source": [
        "#For Severe Toxic\n",
        "X_train, X_test, y_train, y_test = train_test_split(doc_vectors, comments_sample.severe_toxic,\n",
        "                                                    test_size=0.2, random_state=1)"
      ]
    },
    {
      "cell_type": "code",
      "execution_count": 17,
      "metadata": {
        "id": "Uvzo2EnWtB1S"
      },
      "outputs": [
        {
          "name": "stdout",
          "output_type": "stream",
          "text": [
            "roc_auc_score: 50.000%\n"
          ]
        }
      ],
      "source": [
        "svc_severe = LinearSVC(random_state=1, dual=False, max_iter=10000)\n",
        "svc_severe.fit(X_train, y_train)\n",
        "print(f\"roc_auc_score: {roc_auc_score( y_test, svc_severe.predict(X_test)) * 100:.3f}%\", )"
      ]
    },
    {
      "cell_type": "code",
      "execution_count": 18,
      "metadata": {
        "id": "GFFZhloBLCQY"
      },
      "outputs": [],
      "source": [
        "pickle.dump(svc_severe, open('svc_severe', 'wb'))"
      ]
    },
    {
      "cell_type": "markdown",
      "metadata": {},
      "source": [
        "### Obscene"
      ]
    },
    {
      "cell_type": "code",
      "execution_count": 19,
      "metadata": {
        "id": "tJ6Yu0axtPhf"
      },
      "outputs": [],
      "source": [
        "#For obscene\n",
        "X_train, X_test, y_train, y_test = train_test_split(doc_vectors, comments_sample.obscene,\n",
        "                                                    test_size=0.2, random_state=1)"
      ]
    },
    {
      "cell_type": "code",
      "execution_count": 20,
      "metadata": {
        "id": "07XJYydPtYCO"
      },
      "outputs": [
        {
          "data": {
            "text/plain": [
              "LinearSVC(dual=False, max_iter=10000, random_state=1)"
            ]
          },
          "execution_count": 20,
          "metadata": {},
          "output_type": "execute_result"
        }
      ],
      "source": [
        "svc_obscene = LinearSVC(random_state=1, dual=False, max_iter=10000)\n",
        "svc_obscene.fit(X_train, y_train)"
      ]
    },
    {
      "cell_type": "code",
      "execution_count": 21,
      "metadata": {
        "id": "p57_GdmRtg9m"
      },
      "outputs": [
        {
          "name": "stdout",
          "output_type": "stream",
          "text": [
            "roc_auc_score: 78.901%\n"
          ]
        }
      ],
      "source": [
        "print(f\"roc_auc_score: {roc_auc_score( y_test, svc_obscene.predict(X_test)) * 100:.3f}%\", )"
      ]
    },
    {
      "cell_type": "code",
      "execution_count": 22,
      "metadata": {
        "id": "k3DchAy1LFte"
      },
      "outputs": [],
      "source": [
        "pickle.dump(svc_obscene, open('svc_obscene', 'wb'))"
      ]
    },
    {
      "cell_type": "markdown",
      "metadata": {},
      "source": [
        "### Threat"
      ]
    },
    {
      "cell_type": "code",
      "execution_count": 23,
      "metadata": {
        "id": "wiRIO60xtmD8"
      },
      "outputs": [],
      "source": [
        "#For Threat\n",
        "X_train, X_test, y_train, y_test = train_test_split(doc_vectors, comments_sample.threat,\n",
        "                                                    test_size=0.2, random_state=1)"
      ]
    },
    {
      "cell_type": "code",
      "execution_count": 24,
      "metadata": {
        "id": "2GuRL3S5tqqs"
      },
      "outputs": [
        {
          "data": {
            "text/plain": [
              "LinearSVC(dual=False, max_iter=10000, random_state=1)"
            ]
          },
          "execution_count": 24,
          "metadata": {},
          "output_type": "execute_result"
        }
      ],
      "source": [
        "svc_threat = LinearSVC(random_state=1, dual=False, max_iter=10000)\n",
        "svc_threat.fit(X_train, y_train)"
      ]
    },
    {
      "cell_type": "code",
      "execution_count": 25,
      "metadata": {
        "id": "n1q9aiKUt1Oc"
      },
      "outputs": [
        {
          "name": "stdout",
          "output_type": "stream",
          "text": [
            "roc_auc_score: 50.000%\n"
          ]
        }
      ],
      "source": [
        "print(f\"roc_auc_score: {roc_auc_score( y_test, svc_threat.predict(X_test)) * 100:.3f}%\", )"
      ]
    },
    {
      "cell_type": "code",
      "execution_count": 26,
      "metadata": {
        "id": "5Anc7FHpLJle"
      },
      "outputs": [],
      "source": [
        "pickle.dump(svc_threat, open('svc_threat', 'wb'))"
      ]
    },
    {
      "cell_type": "markdown",
      "metadata": {},
      "source": [
        "### Insult"
      ]
    },
    {
      "cell_type": "code",
      "execution_count": 27,
      "metadata": {
        "id": "uNEKDDdwt38V"
      },
      "outputs": [],
      "source": [
        "#For Insult\n",
        "X_train, X_test, y_train, y_test = train_test_split(doc_vectors, comments_sample.insult,\n",
        "                                                    test_size=0.2, random_state=1)"
      ]
    },
    {
      "cell_type": "code",
      "execution_count": 28,
      "metadata": {
        "id": "Aa1gZKKQt717"
      },
      "outputs": [
        {
          "data": {
            "text/plain": [
              "LinearSVC(dual=False, max_iter=10000, random_state=1)"
            ]
          },
          "execution_count": 28,
          "metadata": {},
          "output_type": "execute_result"
        }
      ],
      "source": [
        "svc_insult = LinearSVC(random_state=1, dual=False, max_iter=10000)\n",
        "svc_insult.fit(X_train, y_train)"
      ]
    },
    {
      "cell_type": "code",
      "execution_count": 29,
      "metadata": {
        "id": "Xyqn1UPCuGBt"
      },
      "outputs": [
        {
          "name": "stdout",
          "output_type": "stream",
          "text": [
            "roc_auc_score: 63.372%\n"
          ]
        }
      ],
      "source": [
        "print(f\"roc_auc_score: {roc_auc_score( y_test, svc_insult.predict(X_test)) * 100:.3f}%\", )"
      ]
    },
    {
      "cell_type": "code",
      "execution_count": 31,
      "metadata": {
        "id": "ZpWmj4NpLNnc"
      },
      "outputs": [],
      "source": [
        "pickle.dump(svc_insult, open('svc_insult', 'wb'))"
      ]
    },
    {
      "cell_type": "markdown",
      "metadata": {},
      "source": [
        "### Identity Hate"
      ]
    },
    {
      "cell_type": "code",
      "execution_count": 32,
      "metadata": {
        "id": "ZBku1AXiuIlR"
      },
      "outputs": [],
      "source": [
        "#For identity_hate\n",
        "X_train, X_test, y_train, y_test = train_test_split(doc_vectors, comments_sample.identity_hate,\n",
        "                                                    test_size=0.2, random_state=1)"
      ]
    },
    {
      "cell_type": "code",
      "execution_count": 33,
      "metadata": {
        "id": "8PhUX_b4uR8D"
      },
      "outputs": [
        {
          "data": {
            "text/plain": [
              "LinearSVC(dual=False, max_iter=10000, random_state=1)"
            ]
          },
          "execution_count": 33,
          "metadata": {},
          "output_type": "execute_result"
        }
      ],
      "source": [
        "svc_identity_hate = LinearSVC(random_state=1, dual=False, max_iter=10000)\n",
        "svc_identity_hate.fit(X_train, y_train)"
      ]
    },
    {
      "cell_type": "code",
      "execution_count": 34,
      "metadata": {
        "id": "Fx9dYv_zuIv4"
      },
      "outputs": [
        {
          "name": "stdout",
          "output_type": "stream",
          "text": [
            "roc_auc_score: 50.000%\n"
          ]
        }
      ],
      "source": [
        "print(f\"roc_auc_score: {roc_auc_score( y_test, svc_identity_hate.predict(X_test)) * 100:.3f}%\", )"
      ]
    },
    {
      "cell_type": "code",
      "execution_count": 36,
      "metadata": {
        "id": "xgGIdvp4LQ__"
      },
      "outputs": [],
      "source": [
        "pickle.dump(svc_identity_hate, open('svc_identity_hate', 'wb'))"
      ]
    },
    {
      "cell_type": "code",
      "execution_count": 38,
      "metadata": {
        "id": "F3wDG04K1aMn"
      },
      "outputs": [
        {
          "data": {
            "text/html": [
              "<div>\n",
              "<style scoped>\n",
              "    .dataframe tbody tr th:only-of-type {\n",
              "        vertical-align: middle;\n",
              "    }\n",
              "\n",
              "    .dataframe tbody tr th {\n",
              "        vertical-align: top;\n",
              "    }\n",
              "\n",
              "    .dataframe thead th {\n",
              "        text-align: right;\n",
              "    }\n",
              "</style>\n",
              "<table border=\"1\" class=\"dataframe\">\n",
              "  <thead>\n",
              "    <tr style=\"text-align: right;\">\n",
              "      <th></th>\n",
              "      <th>id</th>\n",
              "      <th>comment_text</th>\n",
              "    </tr>\n",
              "  </thead>\n",
              "  <tbody>\n",
              "    <tr>\n",
              "      <th>0</th>\n",
              "      <td>00001cee341fdb12</td>\n",
              "      <td>Yo bitch Ja Rule is more succesful then you'll...</td>\n",
              "    </tr>\n",
              "    <tr>\n",
              "      <th>1</th>\n",
              "      <td>0000247867823ef7</td>\n",
              "      <td>== From RfC == \\n\\n The title is fine as it is...</td>\n",
              "    </tr>\n",
              "    <tr>\n",
              "      <th>2</th>\n",
              "      <td>00013b17ad220c46</td>\n",
              "      <td>\" \\n\\n == Sources == \\n\\n * Zawe Ashton on Lap...</td>\n",
              "    </tr>\n",
              "    <tr>\n",
              "      <th>3</th>\n",
              "      <td>00017563c3f7919a</td>\n",
              "      <td>:If you have a look back at the source, the in...</td>\n",
              "    </tr>\n",
              "    <tr>\n",
              "      <th>4</th>\n",
              "      <td>00017695ad8997eb</td>\n",
              "      <td>I don't anonymously edit articles at all.</td>\n",
              "    </tr>\n",
              "  </tbody>\n",
              "</table>\n",
              "</div>"
            ],
            "text/plain": [
              "                 id                                       comment_text\n",
              "0  00001cee341fdb12  Yo bitch Ja Rule is more succesful then you'll...\n",
              "1  0000247867823ef7  == From RfC == \\n\\n The title is fine as it is...\n",
              "2  00013b17ad220c46  \" \\n\\n == Sources == \\n\\n * Zawe Ashton on Lap...\n",
              "3  00017563c3f7919a  :If you have a look back at the source, the in...\n",
              "4  00017695ad8997eb          I don't anonymously edit articles at all."
            ]
          },
          "execution_count": 38,
          "metadata": {},
          "output_type": "execute_result"
        }
      ],
      "source": [
        "test_comments = pd.read_csv(data_dir + 'test.csv')\n",
        "test_comments.head()\n"
      ]
    },
    {
      "cell_type": "code",
      "execution_count": 39,
      "metadata": {
        "id": "AuOnHrJh1zod"
      },
      "outputs": [],
      "source": [
        "test_comments_sample = test_comments\n",
        "test_comments_sample['comment_text'] = hero.clean(test_comments_sample['comment_text'], pipeline = custom_pipeline)\n",
        "with nlp.disable_pipes():\n",
        "    test_doc_vectors = np.array([nlp(text).vector for text in test_comments_sample.comment_text])\n",
        "np.savetxt(\"test_vectors.csv\", test_doc_vectors, delimiter=\",\")\n"
      ]
    },
    {
      "cell_type": "code",
      "execution_count": 40,
      "metadata": {
        "id": "qUuMWkGz3TY1"
      },
      "outputs": [],
      "source": [
        "predictions = pd.DataFrame()\n",
        "predictions[\"id\"] = test_comments_sample.id\n",
        "predictions[\"toxic\"] = svc_toxic.predict(test_doc_vectors)\n",
        "predictions[\"severe_toxic\"] = svc_severe.predict(test_doc_vectors)\n",
        "predictions[\"obscene\"] = svc_obscene.predict(test_doc_vectors)\n",
        "predictions[\"threat\"] = svc_threat.predict(test_doc_vectors)\n",
        "predictions[\"insult\"] = svc_insult.predict(test_doc_vectors)\n",
        "predictions[\"identity_hate\"] = svc_identity_hate.predict(test_doc_vectors)"
      ]
    },
    {
      "cell_type": "code",
      "execution_count": 41,
      "metadata": {
        "id": "mfgSX52755Jj"
      },
      "outputs": [
        {
          "data": {
            "text/html": [
              "<div>\n",
              "<style scoped>\n",
              "    .dataframe tbody tr th:only-of-type {\n",
              "        vertical-align: middle;\n",
              "    }\n",
              "\n",
              "    .dataframe tbody tr th {\n",
              "        vertical-align: top;\n",
              "    }\n",
              "\n",
              "    .dataframe thead th {\n",
              "        text-align: right;\n",
              "    }\n",
              "</style>\n",
              "<table border=\"1\" class=\"dataframe\">\n",
              "  <thead>\n",
              "    <tr style=\"text-align: right;\">\n",
              "      <th></th>\n",
              "      <th>id</th>\n",
              "      <th>toxic</th>\n",
              "      <th>severe_toxic</th>\n",
              "      <th>obscene</th>\n",
              "      <th>threat</th>\n",
              "      <th>insult</th>\n",
              "      <th>identity_hate</th>\n",
              "    </tr>\n",
              "  </thead>\n",
              "  <tbody>\n",
              "    <tr>\n",
              "      <th>0</th>\n",
              "      <td>00001cee341fdb12</td>\n",
              "      <td>1</td>\n",
              "      <td>0</td>\n",
              "      <td>1</td>\n",
              "      <td>0</td>\n",
              "      <td>1</td>\n",
              "      <td>0</td>\n",
              "    </tr>\n",
              "    <tr>\n",
              "      <th>1</th>\n",
              "      <td>0000247867823ef7</td>\n",
              "      <td>0</td>\n",
              "      <td>0</td>\n",
              "      <td>0</td>\n",
              "      <td>0</td>\n",
              "      <td>0</td>\n",
              "      <td>0</td>\n",
              "    </tr>\n",
              "    <tr>\n",
              "      <th>2</th>\n",
              "      <td>00013b17ad220c46</td>\n",
              "      <td>0</td>\n",
              "      <td>0</td>\n",
              "      <td>0</td>\n",
              "      <td>0</td>\n",
              "      <td>0</td>\n",
              "      <td>0</td>\n",
              "    </tr>\n",
              "    <tr>\n",
              "      <th>3</th>\n",
              "      <td>00017563c3f7919a</td>\n",
              "      <td>0</td>\n",
              "      <td>0</td>\n",
              "      <td>0</td>\n",
              "      <td>0</td>\n",
              "      <td>0</td>\n",
              "      <td>0</td>\n",
              "    </tr>\n",
              "    <tr>\n",
              "      <th>4</th>\n",
              "      <td>00017695ad8997eb</td>\n",
              "      <td>0</td>\n",
              "      <td>0</td>\n",
              "      <td>0</td>\n",
              "      <td>0</td>\n",
              "      <td>0</td>\n",
              "      <td>0</td>\n",
              "    </tr>\n",
              "  </tbody>\n",
              "</table>\n",
              "</div>"
            ],
            "text/plain": [
              "                 id  toxic  severe_toxic  obscene  threat  insult  \\\n",
              "0  00001cee341fdb12      1             0        1       0       1   \n",
              "1  0000247867823ef7      0             0        0       0       0   \n",
              "2  00013b17ad220c46      0             0        0       0       0   \n",
              "3  00017563c3f7919a      0             0        0       0       0   \n",
              "4  00017695ad8997eb      0             0        0       0       0   \n",
              "\n",
              "   identity_hate  \n",
              "0              0  \n",
              "1              0  \n",
              "2              0  \n",
              "3              0  \n",
              "4              0  "
            ]
          },
          "execution_count": 41,
          "metadata": {},
          "output_type": "execute_result"
        }
      ],
      "source": [
        "predictions.head()"
      ]
    },
    {
      "cell_type": "code",
      "execution_count": 42,
      "metadata": {
        "id": "RVBuXMVj59TR"
      },
      "outputs": [],
      "source": [
        "predictions.to_csv(data_dir + 'submission.csv',index=False)"
      ]
    },
    {
      "cell_type": "code",
      "execution_count": 43,
      "metadata": {
        "id": "l-Ge3lFTSZMB"
      },
      "outputs": [
        {
          "data": {
            "text/plain": [
              "(153164, 7)"
            ]
          },
          "execution_count": 43,
          "metadata": {},
          "output_type": "execute_result"
        }
      ],
      "source": [
        "predictions.shape"
      ]
    },
    {
      "cell_type": "code",
      "execution_count": null,
      "metadata": {},
      "outputs": [],
      "source": []
    }
  ],
  "metadata": {
    "colab": {
      "collapsed_sections": [],
      "name": "Toxic-LinearSVC.ipynb",
      "provenance": []
    },
    "kernelspec": {
      "display_name": "Python 3",
      "name": "python3"
    },
    "language_info": {
      "codemirror_mode": {
        "name": "ipython",
        "version": 3
      },
      "file_extension": ".py",
      "mimetype": "text/x-python",
      "name": "python",
      "nbconvert_exporter": "python",
      "pygments_lexer": "ipython3",
      "version": "3.6.8"
    }
  },
  "nbformat": 4,
  "nbformat_minor": 0
}
